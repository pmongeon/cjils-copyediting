{
  "cells": [
    {
      "cell_type": "markdown",
      "metadata": {},
      "source": [
        "# Latex and Overleaf {.unnumbered}\n",
        "\n",
        "### First page header\n",
        "\n",
        "#### Volume, issue, and year\n",
        "\n",
        "#### DOI\n",
        "\n",
        "#### Document type\n",
        "\n",
        "\n",
        "\n",
        "\n",
        "\n",
        "\n",
        "```{latex}\n",
        "```\n",
        "\n",
        "\n",
        "\n",
        "\n",
        "\n",
        "\n",
        "### Running head\n",
        "\n",
        "#### Odd pages\n",
        "\n",
        "#### Even pages\n",
        "\n",
        "### Authors and affiliations\n",
        "\n",
        "#### Author names\n",
        "\n",
        "#### ORCID\n",
        "\n",
        "#### Affiliations\n",
        "\n",
        "#### Authors with multiple affiliations\n",
        "\n",
        "### Title and abstract\n",
        "\n",
        "### Keywords\n",
        "\n",
        "### Starting page number\n",
        "\n",
        "### Main body\n",
        "\n",
        "### References"
      ],
      "id": "6689aae2"
    }
  ],
  "metadata": {
    "kernelspec": {
      "display_name": "Python 3",
      "language": "python",
      "name": "python3"
    }
  },
  "nbformat": 4,
  "nbformat_minor": 5
}